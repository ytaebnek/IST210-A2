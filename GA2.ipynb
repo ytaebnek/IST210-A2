{
 "cells": [
  {
   "cell_type": "markdown",
   "metadata": {},
   "source": [
    "# Group Assignment 2"
   ]
  },
  {
   "cell_type": "markdown",
   "metadata": {},
   "source": [
    "In our ER Diagram for the IT Repair Desk, we created a total of seven entities in order to keep track of the Job Titles, Degree/Certifications, Skill Set, Employees, PCs to be Repaired, Assignment, and then the IT Repair Desk. For the Job title entity we have the attributes necessary in order for the jobID to be unique according to the data we have associated with that title. And the job title can range from 1 to 5 employees having the specific title as well as there only being one job title per employee. Next, is the degree certification which has all of the information regarding the degree attached to the degID which is connected to the skill set entity. Your degree/certification can lead to 1 to 5 skill sets but a skill set requires only 1 degree. This then leads from the skill set entity into the employees entity in which an employee will have 1 skill set up to a maximum of 3 and 1 to 5 employees per skill set that is offered. Next, is the assignment entity which consists of employee and PC. The cardinality is therefore 1 to 3 employees per assignment and at most 1 assignment per employee which connects to the Employees entity. Also, 1 PC per assignment and each PC can have at most 1 assignment. Last, is the assignment entity leading into the IT Repair Desk entity which is a 1 to 1 cardinality in both directions. This being because the assignment can only go to one desk as well as the queID information being assigned to each specific assignment making it 1 to 1 as well."
   ]
  },
  {
   "cell_type": "markdown",
   "metadata": {},
   "source": [
    "<img src=\"IST210A2.png\" />"
   ]
  },
  {
   "cell_type": "code",
   "execution_count": null,
   "metadata": {},
   "outputs": [],
   "source": []
  }
 ],
 "metadata": {
  "kernelspec": {
   "display_name": "Python 3",
   "language": "python",
   "name": "python3"
  },
  "language_info": {
   "codemirror_mode": {
    "name": "ipython",
    "version": 3
   },
   "file_extension": ".py",
   "mimetype": "text/x-python",
   "name": "python",
   "nbconvert_exporter": "python",
   "pygments_lexer": "ipython3",
   "version": "3.7.3"
  }
 },
 "nbformat": 4,
 "nbformat_minor": 2
}
