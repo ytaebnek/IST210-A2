{
 "cells": [
  {
   "cell_type": "markdown",
   "metadata": {},
   "source": [
    "# Pet Shop ER Diagram"
   ]
  },
  {
   "cell_type": "markdown",
   "metadata": {},
   "source": [
    "<img src=\"IST210Lab2.png\" />"
   ]
  },
  {
   "cell_type": "markdown",
   "metadata": {},
   "source": [
    "In our ER Diagram for the pet shop we created a total of eight entities to keep track of the animals, the location holding them, sales, food, and a loyalty program. Since there could be multiple locations holding the same kind of animal, we decided to relate the enclosure and aquarium to pet and fish, respectively, through the use of the enclosure ID. Additionally we created a size and capacity for the animal locations so that the owner can keep track of which places are too full or empty. Each animal has a unique ID which relates them to adoption, which has a quantity since customers may buy more than one of a particular animal. Each pet also has a name attribute since there may be, for example, cats or dogs up for adoption which are usually pre assigned names. Each animal can also be described by their color in terms of the entity, allowing for easier identification. In regards to food purchases, we relate the food and food purchase entities off of the foodID attribute. For both of the entities that keep track of purchases we included a taxRate attribute which will allow the user to adjust the totalCost attribute based on the quantity and cost of their total purchase, giving them a final number to charge the customer. We created  transaction ID for both the Food purchases and adoptions since they may be purchased in the same transaction but the separate entities help to keep them organized. Finally, the Loyalty Program entity helps to identify the customer and total up points that they may earn from qualifying purchases at the store.\n"
   ]
  }
 ],
 "metadata": {
  "kernelspec": {
   "display_name": "Python 3",
   "language": "python",
   "name": "python3"
  },
  "language_info": {
   "codemirror_mode": {
    "name": "ipython",
    "version": 3
   },
   "file_extension": ".py",
   "mimetype": "text/x-python",
   "name": "python",
   "nbconvert_exporter": "python",
   "pygments_lexer": "ipython3",
   "version": "3.7.3"
  }
 },
 "nbformat": 4,
 "nbformat_minor": 2
}
